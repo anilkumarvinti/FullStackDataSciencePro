{
 "cells": [
  {
   "cell_type": "code",
   "execution_count": 1,
   "id": "4fb46d71-bf5e-4b6f-bcdb-83b7041e0b5a",
   "metadata": {
    "tags": []
   },
   "outputs": [
    {
     "name": "stdout",
     "output_type": "stream",
     "text": [
      "Please enter the value X:\n"
     ]
    },
    {
     "name": "stdin",
     "output_type": "stream",
     "text": [
      " 78\n"
     ]
    },
    {
     "name": "stdout",
     "output_type": "stream",
     "text": [
      "The Value of X is:  78 \n",
      "\n",
      "Please enter the value Y:\n"
     ]
    },
    {
     "name": "stdin",
     "output_type": "stream",
     "text": [
      " 22\n"
     ]
    },
    {
     "name": "stdout",
     "output_type": "stream",
     "text": [
      "The Value of Y is:  22 \n",
      "\n",
      "The Values of X and Y are:  (22, 78)\n"
     ]
    }
   ],
   "source": [
    "#Program to SWAP the X and Y values wihtout using TEMP variable\n",
    "\n",
    "print(\"Please enter the value X:\")\n",
    "\n",
    "#Type casting String to Integer and input method for passing X variable\n",
    "x = int(input())\n",
    "\n",
    "print(\"The Value of X is: \",x,\"\\n\")\n",
    "\n",
    "print(\"Please enter the value Y:\")\n",
    "\n",
    "#Type casting String to Integer and input method for passing Y variable\n",
    "y = int(input())\n",
    "\n",
    "print(\"The Value of Y is: \",y,\"\\n\")\n",
    "\n",
    "#The below swap_values() function swaps the X and Y Values\n",
    "def swap_values(x,y):\n",
    "    x=x+y\n",
    "    y=x-y\n",
    "    x=x-y \n",
    "    return x,y\n",
    "\n",
    "#Printing SWAP values of X and Y to the console\n",
    "print(\"The Values of X and Y are: \",swap_values(x,y))"
   ]
  },
  {
   "cell_type": "code",
   "execution_count": 2,
   "id": "70c0e4c9-c6dd-4fb2-b0c3-383587155f68",
   "metadata": {},
   "outputs": [
    {
     "name": "stdout",
     "output_type": "stream",
     "text": [
      "Please enter the value L:\n"
     ]
    },
    {
     "name": "stdin",
     "output_type": "stream",
     "text": [
      " 30.45\n"
     ]
    },
    {
     "name": "stdout",
     "output_type": "stream",
     "text": [
      "Length of the Rectangle is:  30.45 cm\n",
      "\n",
      "Please enter the value W:\n"
     ]
    },
    {
     "name": "stdin",
     "output_type": "stream",
     "text": [
      " 94.32\n"
     ]
    },
    {
     "name": "stdout",
     "output_type": "stream",
     "text": [
      "Width of the Rectangle is:  94.32 cm\n",
      "\n",
      "The Area of the Rectangle for the given Length and Width is:   2872.044  sq.cm\n"
     ]
    }
   ],
   "source": [
    "#Program to Calculate the Area of a Rectangle (A) = Length (L) X Width (W)\n",
    "print(\"Please enter the value L:\")\n",
    "\n",
    "#Type casting String to Float and input method for passing variable 'l'\n",
    "l = float(input())\n",
    "\n",
    "print(\"Length of the Rectangle is: \",l,\"cm\\n\")\n",
    "\n",
    "print(\"Please enter the value W:\")\n",
    "\n",
    "#Type casting String to Float and input method for passing variable 'w'\n",
    "w = float(input())\n",
    "\n",
    "print(\"Width of the Rectangle is: \",w,\"cm\\n\")\n",
    "\n",
    "#The below areaOfRectangle_values() function calculates the Area of the Rectangle\n",
    "def areaOfRectangle_values(l,w):\n",
    "     a=l*w \n",
    "     return a\n",
    "\n",
    "#Printing Area of the Rectangle to the console\n",
    "print(\"The Area of the Rectangle for the given Length and Width is:  \",areaOfRectangle_values(l,w),\" sq.cm\")"
   ]
  },
  {
   "cell_type": "code",
   "execution_count": 3,
   "id": "c82e9645-f82c-4601-91f1-f1c899925de8",
   "metadata": {},
   "outputs": [
    {
     "name": "stdout",
     "output_type": "stream",
     "text": [
      "Please enter the value of Celsius:\n"
     ]
    },
    {
     "name": "stdin",
     "output_type": "stream",
     "text": [
      " 40\n"
     ]
    },
    {
     "name": "stdout",
     "output_type": "stream",
     "text": [
      "The entered Celsisu is:  40 C\n",
      "The Fahrenehit value is:  104.0 F\n"
     ]
    }
   ],
   "source": [
    "#Program to converts temperatures from Celsius to Fahrenheit\n",
    "print(\"Please enter the value of Celsius:\")\n",
    "\n",
    "#Type casting String to Integer and input method for passing Celsius 'c' variable\n",
    "c = int(input())\n",
    "\n",
    "print(\"The entered Celsisu is: \",c,\"C\")\n",
    "\n",
    "#The below convertToFahrenheit() function converts the Celsius to Fahrenheit\n",
    "def convertToFahrenheit(c):\n",
    "    f = (c*1.8)+32\n",
    "    return f\n",
    "\n",
    "#Printing converted Fahrenheit value from Celsius\n",
    "print(\"The Fahrenehit value is: \",convertToFahrenheit(c),\"F\")"
   ]
  },
  {
   "cell_type": "code",
   "execution_count": 4,
   "id": "c0c26cc9-8265-4fe0-915d-35be852e00d0",
   "metadata": {},
   "outputs": [
    {
     "name": "stdout",
     "output_type": "stream",
     "text": [
      "Please enter the string:\n"
     ]
    },
    {
     "name": "stdin",
     "output_type": "stream",
     "text": [
      " string\n"
     ]
    },
    {
     "name": "stdout",
     "output_type": "stream",
     "text": [
      "The length of the given input string is:  6\n"
     ]
    }
   ],
   "source": [
    "#Program to print the length of the String\n",
    "print(\"Please enter the string:\")\n",
    "str1_input = input()\n",
    "\n",
    "#Printing the given 'str_input' length to the cosole\n",
    "#finding length of the string with the inbuilt-function 'len'\n",
    "print(\"The length of the given input string is: \",len(str1_input))\n"
   ]
  },
  {
   "cell_type": "code",
   "execution_count": 5,
   "id": "f2b5b4cc-29fa-4392-9e4e-ac9acdd8f02b",
   "metadata": {},
   "outputs": [
    {
     "name": "stdout",
     "output_type": "stream",
     "text": [
      "Please enter the string:\n"
     ]
    },
    {
     "name": "stdin",
     "output_type": "stream",
     "text": [
      " AEIOU\n"
     ]
    },
    {
     "name": "stdout",
     "output_type": "stream",
     "text": [
      "The given input string is: aeiou\n",
      "['a', 'e', 'i', 'o', 'u']\n",
      "5\n"
     ]
    }
   ],
   "source": [
    "#Program to count the number of Vowels in the String\n",
    "print(\"Please enter the string:\")\n",
    "\n",
    "#Casting given string to lowercase\n",
    "str2_input = input().lower()\n",
    "print(\"The given input string is:\",str2_input)\n",
    "\n",
    "#Casting input string to character array\n",
    "char_array = list(str2_input)\n",
    "\n",
    "#printing character array to the console\n",
    "print(char_array)\n",
    "\n",
    "# find_vowels_inString() function compare the each character of the string \n",
    "# if conditions met increase the counter\n",
    "# method returns the count of vowels\n",
    "def  count_vowels_inString(char_array):\n",
    "        #Initializing the counter\n",
    "        count=0\n",
    "        #Iterating loop for validating each character of char_array\n",
    "        for char in char_array:\n",
    "            if char == 'a':\n",
    "                count = count+1\n",
    "            elif char == 'e':\n",
    "                count = count +1\n",
    "            elif char == 'i':\n",
    "                count = count +1\n",
    "            elif char == 'o':\n",
    "                count = count +1\n",
    "            elif char == 'u':\n",
    "                count = count +1\n",
    "        return count\n",
    "#printing count of vowels to the console by calling count_vowels_inString() method\n",
    "print(count_vowels_inString(char_array))"
   ]
  },
  {
   "cell_type": "code",
   "execution_count": 6,
   "id": "9ca834c3-9287-43a0-9ea4-56dcb5442d76",
   "metadata": {},
   "outputs": [
    {
     "name": "stdout",
     "output_type": "stream",
     "text": [
      "Please enter the string:\n"
     ]
    },
    {
     "name": "stdin",
     "output_type": "stream",
     "text": [
      " STRING\n"
     ]
    },
    {
     "name": "stdout",
     "output_type": "stream",
     "text": [
      "Reverese of the order of characters using String Slicing: GNIRTS\n"
     ]
    }
   ],
   "source": [
    "#Program to reverse the order of characters using string slicing\n",
    "print(\"Please enter the string:\")\n",
    "\n",
    "str3_input = input()\n",
    "\n",
    "#The below function reverse the string using the slicing technique\n",
    "def reverse_string(str3_input):\n",
    "    rev_string = str3_input[ : :-1]\n",
    "    return rev_string\n",
    "\n",
    "#Printing reverse of the string to the console by calling reverse_string() function\n",
    "print(\"Reverese of the order of characters using String Slicing:\",reverse_string(str3_input))"
   ]
  },
  {
   "cell_type": "code",
   "execution_count": 8,
   "id": "d3f2ba47-b364-47eb-bc7f-060d41acb5b2",
   "metadata": {},
   "outputs": [
    {
     "name": "stdout",
     "output_type": "stream",
     "text": [
      "Please enter the string:\n"
     ]
    },
    {
     "name": "stdin",
     "output_type": "stream",
     "text": [
      " TENET\n"
     ]
    },
    {
     "name": "stdout",
     "output_type": "stream",
     "text": [
      "The input string is a Palindrome\n"
     ]
    }
   ],
   "source": [
    "#Program to verify whether given string is palindrome\n",
    "print(\"Please enter the string:\")\n",
    "\n",
    "str4_input = input()\n",
    "#len() is an inbuilt-function to return the length of the string\n",
    "s_len = len(str4_input)\n",
    "\n",
    "#if-elif condition to check given word qualification for palindrome\n",
    "#if length is 1, a single character is always a palindrome to itself\n",
    "if s_len==1:\n",
    "    print(\"Please pass a word rather than a single character to check Palindrome\")\n",
    "\n",
    "#if length is more than 1, it's eligible for validating to palindrome\n",
    "elif s_len>1:\n",
    "    #if condition to compare whether given string and reverse string are same\n",
    "    #Function calling to reverse_string(str_input) for reversing string and code reusability done\n",
    "    if str4_input == reverse_string(str4_input):\n",
    "        print(\"The input string is a Palindrome\")\n",
    "    else:\n",
    "        print(\"THe input string is not a Palindrome\")"
   ]
  },
  {
   "cell_type": "code",
   "execution_count": 9,
   "id": "bddc4581-acf5-4e8c-ae49-a08d00178864",
   "metadata": {
    "tags": []
   },
   "outputs": [
    {
     "name": "stdout",
     "output_type": "stream",
     "text": [
      "Please enter the string:\n"
     ]
    },
    {
     "name": "stdin",
     "output_type": "stream",
     "text": [
      "       A               \n"
     ]
    },
    {
     "name": "stdout",
     "output_type": "stream",
     "text": [
      "A\n"
     ]
    }
   ],
   "source": [
    "#Program to print the string without spaces\n",
    "print(\"Please enter the string:\")\n",
    "str5_input = input()\n",
    "\n",
    "#Casting the input string to srcArray to traverse each character\n",
    "srcArray = list(str5_input)\n",
    "\n",
    "#Initialized copyArray to store the characters except the spaces\n",
    "copyArray =[]\n",
    "\n",
    "#Iteration to each character and copy characters to the copy array excepting the space\n",
    "for ch in srcArray:\n",
    "    #condition to copy characters to copyArray\n",
    "    if ch != ' ':copyArray.append(ch)\n",
    "\n",
    "#Initializing the empty string to add each character of copy array to the string\n",
    "str6_input = \"\"\n",
    "\n",
    "#Iteration to add each character to the string\n",
    "for fArray in copyArray:\n",
    "    #adding each character to the string\n",
    "    str6_input = str6_input+str6_input.join(fArray)\n",
    "#Printing final string without the spaces\n",
    "print(str6_input)"
   ]
  }
 ],
 "metadata": {
  "kernelspec": {
   "display_name": "Python 3 (ipykernel)",
   "language": "python",
   "name": "python3"
  },
  "language_info": {
   "codemirror_mode": {
    "name": "ipython",
    "version": 3
   },
   "file_extension": ".py",
   "mimetype": "text/x-python",
   "name": "python",
   "nbconvert_exporter": "python",
   "pygments_lexer": "ipython3",
   "version": "3.10.8"
  }
 },
 "nbformat": 4,
 "nbformat_minor": 5
}
